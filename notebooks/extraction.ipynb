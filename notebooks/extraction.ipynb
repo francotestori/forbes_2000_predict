{
 "cells": [
  {
   "cell_type": "code",
   "execution_count": 1,
   "metadata": {},
   "outputs": [],
   "source": [
    "import pandas as pd\n",
    "import numpy as np\n",
    "\n",
    "import unidecode\n",
    "from models.companies_refactor import COMPANIES"
   ]
  },
  {
   "cell_type": "code",
   "execution_count": 2,
   "metadata": {},
   "outputs": [],
   "source": [
    "columns_2008 = ['company','industry','country','market_value','profits','assets','sales','rank']\n",
    "columns_til_2011 = ['company','industry','country','market_value','profits','assets','sales','rank','profits_%_assets','profits_%_sales']\n",
    "columns_til_2014 = ['company','industry','country','market_value','profits','assets','sales','rank','forbes_webpage','profits_%_assets','profits_%_sales']\n",
    "columns_2014 = ['company','sector','industry','continent','country','market_value','sales','profits','assets','rank','forbes_webpage','profits_%_assets','profits_%_sales']\n",
    "columns_til_2020 = ['company','market_value','sales','profits','assets','rank','sector','industry','continent','country','headquarters','state','ceo','forbes_webpage','profits_%_assets','profits_%_sales']\n",
    "columns_2020 = ['rank','company','country','sales','profits','assets','market_value','sector','industry']"
   ]
  },
  {
   "cell_type": "code",
   "execution_count": 3,
   "metadata": {
    "pycharm": {
     "name": "#%%\n"
    }
   },
   "outputs": [],
   "source": [
    "def load_forbes_df(year: int, columns: list, sep: str = ','):\n",
    "    df = pd.read_csv(f'../data/Forbes Global 2000 - {year}.csv', sep=sep, error_bad_lines=False)\n",
    "    df.columns = columns\n",
    "    df['year'] = year\n",
    "    return df\n",
    "\n",
    "\n",
    "def load_all_forbes_df():\n",
    "    dfs = []\n",
    "    for year in range(2008,2021,1):\n",
    "        if year == 2020:\n",
    "            dfs.append(\n",
    "                load_forbes_df(\n",
    "                    year=year,\n",
    "                    columns=columns_2020,\n",
    "                    sep=';'\n",
    "                )\n",
    "            )\n",
    "        elif year in [2015,2016,2017,2018,2019] :\n",
    "            dfs.append(\n",
    "                load_forbes_df(\n",
    "                    year=year,\n",
    "                    columns=columns_til_2020\n",
    "                )\n",
    "            )\n",
    "        elif year == 2014:\n",
    "            dfs.append(\n",
    "                load_forbes_df(\n",
    "                    year=year,\n",
    "                    columns=columns_2014\n",
    "                )\n",
    "            )\n",
    "        elif year in [2011,2012,2013]:\n",
    "            dfs.append(\n",
    "                load_forbes_df(\n",
    "                    year=year,\n",
    "                    columns=columns_til_2014\n",
    "                )\n",
    "            )\n",
    "        elif year in [2009,2010]:\n",
    "            dfs.append(\n",
    "                load_forbes_df(\n",
    "                    year=year,\n",
    "                    columns=columns_til_2011\n",
    "                )\n",
    "            )\n",
    "        else:\n",
    "            dfs.append(\n",
    "                load_forbes_df(\n",
    "                    year=year,\n",
    "                    columns=columns_2008\n",
    "                )\n",
    "            )\n",
    "\n",
    "    return pd.concat(dfs, axis=0)"
   ]
  },
  {
   "cell_type": "code",
   "execution_count": 4,
   "metadata": {
    "pycharm": {
     "name": "#%%\n"
    }
   },
   "outputs": [
    {
     "name": "stderr",
     "output_type": "stream",
     "text": [
      "b'Skipping line 74: expected 16 fields, saw 17\\nSkipping line 108: expected 16 fields, saw 17\\nSkipping line 1896: expected 16 fields, saw 17\\nSkipping line 1901: expected 16 fields, saw 17\\n'\n"
     ]
    }
   ],
   "source": [
    "df = load_all_forbes_df()"
   ]
  },
  {
   "cell_type": "code",
   "execution_count": 5,
   "metadata": {
    "pycharm": {
     "name": "#%%\n"
    }
   },
   "outputs": [
    {
     "data": {
      "text/plain": "company             25998\nindustry            25512\ncountry             25998\nmarket_value        25993\nprofits             25989\nassets              25983\nsales               25987\nrank                25998\nyear                25998\nprofits_%_assets    21980\nprofits_%_sales     21975\nforbes_webpage      17998\nsector              13491\ncontinent           11991\nheadquarters         9982\nstate                2841\nceo                  9968\ndtype: int64"
     },
     "execution_count": 5,
     "metadata": {},
     "output_type": "execute_result"
    }
   ],
   "source": [
    "df.count()"
   ]
  },
  {
   "cell_type": "code",
   "execution_count": 6,
   "metadata": {},
   "outputs": [
    {
     "data": {
      "text/plain": "array([180.81, 330.93, 176.53, ..., '$68 M', '$171 M', '$729 M'],\n      dtype=object)"
     },
     "execution_count": 6,
     "metadata": {},
     "output_type": "execute_result"
    }
   ],
   "source": [
    "df.market_value.unique()"
   ]
  },
  {
   "cell_type": "code",
   "execution_count": 7,
   "metadata": {
    "pycharm": {
     "name": "#%%\n"
    }
   },
   "outputs": [],
   "source": [
    "def forbes_value_to_float(some_value):\n",
    "    money_value = str(some_value).replace('$','')\n",
    "    if 'B' in money_value:\n",
    "        money_value = money_value \\\n",
    "            .replace(' ','') \\\n",
    "            .replace('B','') \\\n",
    "            .replace(',','')\n",
    "    elif 'M' in money_value:\n",
    "        aux = money_value.replace(' ','') \\\n",
    "            .replace('M','')\\\n",
    "            .replace('.','')\n",
    "\n",
    "        if '-' in aux:\n",
    "            aux = aux.replace('-','')\n",
    "            money_value = f'-0.{aux}'\n",
    "        else:\n",
    "            money_value = f'0.{aux}'\n",
    "\n",
    "    return float(money_value)"
   ]
  },
  {
   "cell_type": "code",
   "execution_count": 8,
   "metadata": {
    "pycharm": {
     "name": "#%%\n"
    }
   },
   "outputs": [],
   "source": [
    "df['market_value'] = df['market_value'].map(forbes_value_to_float)"
   ]
  },
  {
   "cell_type": "code",
   "execution_count": 9,
   "metadata": {
    "pycharm": {
     "name": "#%%\n"
    }
   },
   "outputs": [],
   "source": [
    "df['profits'] = df['profits'].map(forbes_value_to_float)"
   ]
  },
  {
   "cell_type": "code",
   "execution_count": 10,
   "metadata": {
    "pycharm": {
     "name": "#%%\n"
    }
   },
   "outputs": [],
   "source": [
    "df['assets'] = df['assets'].map(forbes_value_to_float)"
   ]
  },
  {
   "cell_type": "code",
   "execution_count": 11,
   "metadata": {
    "pycharm": {
     "name": "#%%\n"
    }
   },
   "outputs": [],
   "source": [
    "df['sales'] = df['sales'].map(forbes_value_to_float)"
   ]
  },
  {
   "cell_type": "code",
   "execution_count": 12,
   "metadata": {
    "pycharm": {
     "name": "#%%\n"
    }
   },
   "outputs": [],
   "source": [
    "df['profits_%_sales'] = df['profits_%_sales'].map(lambda x: np.nan if x in ['∞','-∞']  else x)"
   ]
  },
  {
   "cell_type": "code",
   "execution_count": 13,
   "metadata": {
    "pycharm": {
     "name": "#%%\n"
    }
   },
   "outputs": [
    {
     "data": {
      "text/plain": "company              string\nindustry             string\ncountry              string\nmarket_value        float64\nprofits             float64\nassets              float64\nsales               float64\nrank                  Int64\nyear                  Int64\nprofits_%_assets    float64\nprofits_%_sales     float64\nforbes_webpage       string\nsector               string\ncontinent            string\nheadquarters         string\nstate                string\nceo                  string\ndtype: object"
     },
     "execution_count": 13,
     "metadata": {},
     "output_type": "execute_result"
    }
   ],
   "source": [
    "df['company'] = df['company'].astype('string')\n",
    "df['industry'] = df['industry'].astype('string')\n",
    "df['country'] = df['country'].astype('string')\n",
    "df['market_value'] = df['market_value'].astype('float')\n",
    "df['profits'] = df['profits'].astype('float')\n",
    "df['assets'] = df['assets'].astype('float')\n",
    "df['sales'] = df['sales'].astype('float')\n",
    "df['rank'] = df['rank'].astype('Int64')\n",
    "df['year'] = df['year'].astype('Int64')\n",
    "df['profits_%_assets'] = df['profits_%_assets'].astype('float')\n",
    "df['profits_%_sales'] = df['profits_%_sales'].astype('float')\n",
    "df['forbes_webpage'] = df['forbes_webpage'].astype('string')\n",
    "df['sector'] = df['sector'].astype('string')\n",
    "df['continent'] = df['continent'].astype('string')\n",
    "df['headquarters'] = df['headquarters'].astype('string')\n",
    "df['state'] = df['state'].astype('string')\n",
    "df['ceo'] = df['ceo'].astype('string')\n",
    "df.dtypes"
   ]
  },
  {
   "cell_type": "code",
   "execution_count": 14,
   "metadata": {
    "pycharm": {
     "name": "#%%\n"
    }
   },
   "outputs": [],
   "source": [
    "def fill_empty_values_from_company_tuples(col: str, col_type: str):\n",
    "    key_map = {}\n",
    "\n",
    "    for company, col_val in df[['company', col]].values:\n",
    "        if  pd.notna(col_val):\n",
    "            key_map[company] = col_val\n",
    "\n",
    "    df[col] = df['company'].map(lambda x: key_map.get(x, pd.NA))\n",
    "    df[col] = df[col].astype(col_type)"
   ]
  },
  {
   "cell_type": "code",
   "execution_count": 15,
   "metadata": {
    "pycharm": {
     "name": "#%%\n"
    }
   },
   "outputs": [],
   "source": [
    "fill_empty_values_from_company_tuples(\n",
    "    col='sector',\n",
    "    col_type='string'\n",
    ")\n",
    "\n",
    "fill_empty_values_from_company_tuples(\n",
    "    col='industry',\n",
    "    col_type='string'\n",
    ")"
   ]
  },
  {
   "cell_type": "code",
   "execution_count": 16,
   "metadata": {
    "pycharm": {
     "name": "#%%\n"
    }
   },
   "outputs": [],
   "source": [
    "fill_empty_values_from_company_tuples(\n",
    "    col='ceo',\n",
    "    col_type='string'\n",
    ")\n",
    "\n",
    "fill_empty_values_from_company_tuples(\n",
    "    col='forbes_webpage',\n",
    "    col_type='string'\n",
    ")"
   ]
  },
  {
   "cell_type": "code",
   "execution_count": 17,
   "metadata": {
    "pycharm": {
     "name": "#%%\n"
    }
   },
   "outputs": [],
   "source": [
    "fill_empty_values_from_company_tuples(\n",
    "    col='continent',\n",
    "    col_type='string'\n",
    ")\n",
    "\n",
    "fill_empty_values_from_company_tuples(\n",
    "    col='state',\n",
    "    col_type='string'\n",
    ")\n",
    "\n",
    "fill_empty_values_from_company_tuples(\n",
    "    col='headquarters',\n",
    "    col_type='string'\n",
    ")"
   ]
  },
  {
   "cell_type": "code",
   "execution_count": 18,
   "metadata": {
    "pycharm": {
     "name": "#%%\n"
    }
   },
   "outputs": [],
   "source": [
    "continent_map = {}\n",
    "for country, continent in df[['country', 'continent']].values:\n",
    "    if  pd.notna(continent):\n",
    "        continent_map[country] = continent\n",
    "\n",
    "df['continent'] = df['country'].map(lambda x: continent_map.get(x, pd.NA))\n",
    "df['continent'] = df['continent'].astype('string')\n"
   ]
  },
  {
   "cell_type": "code",
   "execution_count": 19,
   "metadata": {
    "pycharm": {
     "name": "#%%\n"
    }
   },
   "outputs": [],
   "source": [
    "df['profits_%_assets'] = round(df['profits'] / df['assets'],6)\n",
    "df['profits_%_sales'] = round(df['profits'] / df['sales'],6)\n"
   ]
  },
  {
   "cell_type": "code",
   "execution_count": 20,
   "metadata": {
    "pycharm": {
     "name": "#%%\n"
    }
   },
   "outputs": [
    {
     "data": {
      "text/plain": "company              string\nindustry             string\ncountry              string\nmarket_value        float64\nprofits             float64\nassets              float64\nsales               float64\nrank                  Int64\nyear                  Int64\nprofits_%_assets    float64\nprofits_%_sales     float64\nforbes_webpage       string\nsector               string\ncontinent            string\nheadquarters         string\nstate                string\nceo                  string\ndtype: object"
     },
     "execution_count": 20,
     "metadata": {},
     "output_type": "execute_result"
    }
   ],
   "source": [
    "df.dtypes"
   ]
  },
  {
   "cell_type": "code",
   "execution_count": 21,
   "metadata": {
    "pycharm": {
     "name": "#%%\n"
    }
   },
   "outputs": [
    {
     "data": {
      "text/plain": "company             25998\nindustry            25665\ncountry             25998\nmarket_value        25993\nprofits             25989\nassets              25983\nsales               25987\nrank                25998\nyear                25998\nprofits_%_assets    25974\nprofits_%_sales     25975\nforbes_webpage      24928\nsector              22648\ncontinent           25978\nheadquarters        22174\nstate                6517\nceo                 22162\ndtype: int64"
     },
     "execution_count": 21,
     "metadata": {},
     "output_type": "execute_result"
    }
   ],
   "source": [
    "df.count()"
   ]
  },
  {
   "cell_type": "code",
   "execution_count": 22,
   "metadata": {
    "pycharm": {
     "name": "#%%\n"
    }
   },
   "outputs": [],
   "source": [
    "for company in sorted(df.company.unique()):\n",
    "    name = str(company)\n",
    "    replacement = COMPANIES.get(name, None)\n",
    "    if replacement:\n",
    "        df.loc[df.company == name, 'company'] = replacement"
   ]
  },
  {
   "cell_type": "code",
   "execution_count": 23,
   "metadata": {
    "pycharm": {
     "name": "#%%\n"
    }
   },
   "outputs": [],
   "source": [
    "for company in sorted(df.company.unique()):\n",
    "    lower_case = unidecode.unidecode(\n",
    "        str(company).lower().strip()\n",
    "    )\n",
    "    df.loc[df.company == company, 'company'] = lower_case"
   ]
  },
  {
   "cell_type": "code",
   "execution_count": 24,
   "metadata": {
    "pycharm": {
     "name": "#%%\n"
    }
   },
   "outputs": [],
   "source": [
    "df['is_top_500'] = False\n",
    "df.loc[df['rank'] <= 500, 'is_top_500'] = True"
   ]
  },
  {
   "cell_type": "code",
   "execution_count": 25,
   "metadata": {
    "pycharm": {
     "name": "#%%\n"
    }
   },
   "outputs": [],
   "source": [
    "df.to_csv('../data/forbes_2000_all_in_one_original.csv', index=False, header=True)"
   ]
  }
 ],
 "metadata": {
  "kernelspec": {
   "display_name": "Python 3",
   "language": "python",
   "name": "python3"
  },
  "language_info": {
   "codemirror_mode": {
    "name": "ipython",
    "version": 3
   },
   "file_extension": ".py",
   "mimetype": "text/x-python",
   "name": "python",
   "nbconvert_exporter": "python",
   "pygments_lexer": "ipython3",
   "version": "3.9.4"
  }
 },
 "nbformat": 4,
 "nbformat_minor": 1
}