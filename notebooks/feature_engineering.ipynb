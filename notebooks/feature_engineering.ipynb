{
 "cells": [
  {
   "cell_type": "code",
   "execution_count": 1,
   "metadata": {
    "collapsed": true
   },
   "outputs": [],
   "source": [
    "import pandas as pd\n",
    "import numpy as np\n"
   ]
  },
  {
   "cell_type": "code",
   "execution_count": 2,
   "outputs": [],
   "source": [
    "df = pd.read_csv('../data/forbes_2000_cleaned_outliers_iqr_range.csv')"
   ],
   "metadata": {
    "collapsed": false,
    "pycharm": {
     "name": "#%%\n"
    }
   }
  },
  {
   "cell_type": "code",
   "execution_count": 3,
   "outputs": [],
   "source": [
    "companies = sorted(df.company.unique())\n",
    "years = sorted(df.year.unique())\n",
    "\n",
    "numeric_columns = [\n",
    "    'profits',\n",
    "    'assets',\n",
    "    'sales',\n",
    "    'cost'\n",
    "]"
   ],
   "metadata": {
    "collapsed": false,
    "pycharm": {
     "name": "#%%\n"
    }
   }
  },
  {
   "cell_type": "code",
   "execution_count": 4,
   "outputs": [],
   "source": [
    "# Register if company was on previous year ranking\n",
    "df['was_on_last_ranking'] = False\n",
    "\n",
    "for company in companies:\n",
    "    for year in years:\n",
    "        row = df.loc[(df.company == company) & (df.year == year)]\n",
    "        previous = df.loc[(df.company == company) & (df.year == year - 1)]\n",
    "        if not row.empty and not previous.empty:\n",
    "            df.loc[(df.company == company) & (df.year == year), 'was_on_last_ranking'] = True"
   ],
   "metadata": {
    "collapsed": false,
    "pycharm": {
     "name": "#%%\n"
    }
   }
  },
  {
   "cell_type": "code",
   "execution_count": 5,
   "outputs": [],
   "source": [
    "# Add yearly mean, median, std and lag_1 for numeric columns\n",
    "for col in numeric_columns:\n",
    "    df[f'mean_{col}'] = 0\n",
    "    df[f'median_{col}'] = 0\n",
    "    df[f'std_{col}'] = 0\n",
    "    df[f'lag_{col}'] = 0"
   ],
   "metadata": {
    "collapsed": false,
    "pycharm": {
     "name": "#%%\n"
    }
   }
  },
  {
   "cell_type": "code",
   "execution_count": 6,
   "outputs": [],
   "source": [
    "# Calculate yearly mean, median and std for numeric columns\n",
    "for year in years:\n",
    "    for col in numeric_columns:\n",
    "        year_data = df.loc[df.year == year,col]\n",
    "        df.loc[df.year == year, f'mean_{col}'] = year_data.mean()\n",
    "        df.loc[df.year == year, f'median_{col}'] = year_data.median()\n",
    "        df.loc[df.year == year, f'std_{col}'] = year_data.std()"
   ],
   "metadata": {
    "collapsed": false,
    "pycharm": {
     "name": "#%%\n"
    }
   }
  },
  {
   "cell_type": "code",
   "execution_count": 7,
   "outputs": [],
   "source": [
    "# Calculate lag_1 feature for numeric columns\n",
    "# if was_on_last_ranking == True for that company yearly ranking\n",
    "for company in companies:\n",
    "    for year in years:\n",
    "        row = df.loc[(df.company == company) & (df.year == year) & (df.was_on_last_ranking == True)]\n",
    "        if not row.empty:\n",
    "            previous = df.loc[(df.company == company) & (df.year == year - 1)]\n",
    "            for col in numeric_columns:\n",
    "                current_value = row[col]\n",
    "                previous_value = previous[col]\n",
    "                lag = current_value.subtract(previous_value, fill_value=0)\n",
    "                df.loc[(df.company == company) & (df.year == year), f'lag_{col}'] =  lag\n"
   ],
   "metadata": {
    "collapsed": false,
    "pycharm": {
     "name": "#%%\n"
    }
   }
  },
  {
   "cell_type": "code",
   "execution_count": 8,
   "outputs": [
    {
     "data": {
      "text/plain": "                  count         mean         std          min          25%  \\\nmarket_value    15496.0    11.580005    9.484464     0.000000     4.767750   \nprofits         15496.0     1.491233    2.208284    -5.495500     0.360000   \nassets          15496.0    18.378448   19.156937    -7.380000     4.287000   \nsales           15496.0    10.848811    9.563720    -4.390000     3.900000   \ncost            15496.0     9.357578    9.420618    -8.200000     2.490750   \nrank            15496.0  1181.347767  477.647479    86.000000   800.750000   \nyear            15496.0  2014.692759    3.641805  2008.000000  2012.000000   \nmean_profits    15496.0     1.491233    1.634838     0.581150     0.632088   \nmedian_profits  15496.0     1.301468    1.549445     0.450000     0.500000   \nstd_profits     15496.0     1.265474    0.777702     0.829251     0.839930   \nlag_profits     15496.0     1.198672    2.086711    -5.495500     0.000000   \nmean_assets     15496.0    18.378448    9.164695     0.329553    17.646634   \nmedian_assets   15496.0    13.288862    6.648785     0.310000    12.435000   \nstd_assets      15496.0    15.166416    7.291365     0.626792    15.884110   \nlag_assets      15496.0    14.275084   18.429018    -7.380000     0.096550   \nmean_sales      15496.0    10.848811    1.871165     8.970305     9.471850   \nmedian_sales    15496.0     8.130205    1.446913     6.535000     7.082000   \nstd_sales       15496.0     9.334443    0.950934     8.554109     8.668353   \nlag_sales       15496.0     8.461743    9.497197    -4.390000     0.800000   \nmean_cost       15496.0     9.357578    0.553369     8.275591     8.868642   \nmedian_cost     15496.0     6.553420    0.881528     4.260000     6.209400   \nstd_cost        15496.0     9.326104    1.240999     8.300255     8.535188   \nlag_cost        15496.0     7.263071    9.091985    -8.200000     0.000000   \n\n                        50%          75%          max  \nmarket_value       8.887000    15.431000    48.059000  \nprofits            0.685900     1.581250    10.560000  \nassets            12.308500    26.324000    90.230000  \nsales              8.176500    14.444000    54.600000  \ncost               6.675400    13.018325    45.719900  \nrank            1197.500000  1583.000000  2000.000000  \nyear            2015.000000  2018.000000  2020.000000  \nmean_profits       0.694715     0.768044     4.972591  \nmedian_profits     0.529000     0.631650     4.700000  \nstd_profits        0.889878     1.021526     2.876189  \nlag_profits        0.500000     1.200000    10.560000  \nmean_assets       22.234207    24.900066    27.174176  \nmedian_assets     15.910500    18.211000    19.850000  \nstd_assets        18.538457    19.832561    20.680669  \nlag_assets         7.519500    21.135500    90.224000  \nmean_sales         9.984899    11.115203    15.294743  \nmedian_sales       7.390000     8.900000    11.700000  \nstd_sales          9.052314     9.239017    11.383080  \nlag_sales          5.774500    12.200000    54.600000  \nmean_cost          9.283218     9.765850    10.347159  \nmedian_cost        6.665000     7.079000     8.170200  \nstd_cost           8.870913     9.009831    11.931373  \nlag_cost           4.129950    10.748725    45.678000  ",
      "text/html": "<div>\n<style scoped>\n    .dataframe tbody tr th:only-of-type {\n        vertical-align: middle;\n    }\n\n    .dataframe tbody tr th {\n        vertical-align: top;\n    }\n\n    .dataframe thead th {\n        text-align: right;\n    }\n</style>\n<table border=\"1\" class=\"dataframe\">\n  <thead>\n    <tr style=\"text-align: right;\">\n      <th></th>\n      <th>count</th>\n      <th>mean</th>\n      <th>std</th>\n      <th>min</th>\n      <th>25%</th>\n      <th>50%</th>\n      <th>75%</th>\n      <th>max</th>\n    </tr>\n  </thead>\n  <tbody>\n    <tr>\n      <th>market_value</th>\n      <td>15496.0</td>\n      <td>11.580005</td>\n      <td>9.484464</td>\n      <td>0.000000</td>\n      <td>4.767750</td>\n      <td>8.887000</td>\n      <td>15.431000</td>\n      <td>48.059000</td>\n    </tr>\n    <tr>\n      <th>profits</th>\n      <td>15496.0</td>\n      <td>1.491233</td>\n      <td>2.208284</td>\n      <td>-5.495500</td>\n      <td>0.360000</td>\n      <td>0.685900</td>\n      <td>1.581250</td>\n      <td>10.560000</td>\n    </tr>\n    <tr>\n      <th>assets</th>\n      <td>15496.0</td>\n      <td>18.378448</td>\n      <td>19.156937</td>\n      <td>-7.380000</td>\n      <td>4.287000</td>\n      <td>12.308500</td>\n      <td>26.324000</td>\n      <td>90.230000</td>\n    </tr>\n    <tr>\n      <th>sales</th>\n      <td>15496.0</td>\n      <td>10.848811</td>\n      <td>9.563720</td>\n      <td>-4.390000</td>\n      <td>3.900000</td>\n      <td>8.176500</td>\n      <td>14.444000</td>\n      <td>54.600000</td>\n    </tr>\n    <tr>\n      <th>cost</th>\n      <td>15496.0</td>\n      <td>9.357578</td>\n      <td>9.420618</td>\n      <td>-8.200000</td>\n      <td>2.490750</td>\n      <td>6.675400</td>\n      <td>13.018325</td>\n      <td>45.719900</td>\n    </tr>\n    <tr>\n      <th>rank</th>\n      <td>15496.0</td>\n      <td>1181.347767</td>\n      <td>477.647479</td>\n      <td>86.000000</td>\n      <td>800.750000</td>\n      <td>1197.500000</td>\n      <td>1583.000000</td>\n      <td>2000.000000</td>\n    </tr>\n    <tr>\n      <th>year</th>\n      <td>15496.0</td>\n      <td>2014.692759</td>\n      <td>3.641805</td>\n      <td>2008.000000</td>\n      <td>2012.000000</td>\n      <td>2015.000000</td>\n      <td>2018.000000</td>\n      <td>2020.000000</td>\n    </tr>\n    <tr>\n      <th>mean_profits</th>\n      <td>15496.0</td>\n      <td>1.491233</td>\n      <td>1.634838</td>\n      <td>0.581150</td>\n      <td>0.632088</td>\n      <td>0.694715</td>\n      <td>0.768044</td>\n      <td>4.972591</td>\n    </tr>\n    <tr>\n      <th>median_profits</th>\n      <td>15496.0</td>\n      <td>1.301468</td>\n      <td>1.549445</td>\n      <td>0.450000</td>\n      <td>0.500000</td>\n      <td>0.529000</td>\n      <td>0.631650</td>\n      <td>4.700000</td>\n    </tr>\n    <tr>\n      <th>std_profits</th>\n      <td>15496.0</td>\n      <td>1.265474</td>\n      <td>0.777702</td>\n      <td>0.829251</td>\n      <td>0.839930</td>\n      <td>0.889878</td>\n      <td>1.021526</td>\n      <td>2.876189</td>\n    </tr>\n    <tr>\n      <th>lag_profits</th>\n      <td>15496.0</td>\n      <td>1.198672</td>\n      <td>2.086711</td>\n      <td>-5.495500</td>\n      <td>0.000000</td>\n      <td>0.500000</td>\n      <td>1.200000</td>\n      <td>10.560000</td>\n    </tr>\n    <tr>\n      <th>mean_assets</th>\n      <td>15496.0</td>\n      <td>18.378448</td>\n      <td>9.164695</td>\n      <td>0.329553</td>\n      <td>17.646634</td>\n      <td>22.234207</td>\n      <td>24.900066</td>\n      <td>27.174176</td>\n    </tr>\n    <tr>\n      <th>median_assets</th>\n      <td>15496.0</td>\n      <td>13.288862</td>\n      <td>6.648785</td>\n      <td>0.310000</td>\n      <td>12.435000</td>\n      <td>15.910500</td>\n      <td>18.211000</td>\n      <td>19.850000</td>\n    </tr>\n    <tr>\n      <th>std_assets</th>\n      <td>15496.0</td>\n      <td>15.166416</td>\n      <td>7.291365</td>\n      <td>0.626792</td>\n      <td>15.884110</td>\n      <td>18.538457</td>\n      <td>19.832561</td>\n      <td>20.680669</td>\n    </tr>\n    <tr>\n      <th>lag_assets</th>\n      <td>15496.0</td>\n      <td>14.275084</td>\n      <td>18.429018</td>\n      <td>-7.380000</td>\n      <td>0.096550</td>\n      <td>7.519500</td>\n      <td>21.135500</td>\n      <td>90.224000</td>\n    </tr>\n    <tr>\n      <th>mean_sales</th>\n      <td>15496.0</td>\n      <td>10.848811</td>\n      <td>1.871165</td>\n      <td>8.970305</td>\n      <td>9.471850</td>\n      <td>9.984899</td>\n      <td>11.115203</td>\n      <td>15.294743</td>\n    </tr>\n    <tr>\n      <th>median_sales</th>\n      <td>15496.0</td>\n      <td>8.130205</td>\n      <td>1.446913</td>\n      <td>6.535000</td>\n      <td>7.082000</td>\n      <td>7.390000</td>\n      <td>8.900000</td>\n      <td>11.700000</td>\n    </tr>\n    <tr>\n      <th>std_sales</th>\n      <td>15496.0</td>\n      <td>9.334443</td>\n      <td>0.950934</td>\n      <td>8.554109</td>\n      <td>8.668353</td>\n      <td>9.052314</td>\n      <td>9.239017</td>\n      <td>11.383080</td>\n    </tr>\n    <tr>\n      <th>lag_sales</th>\n      <td>15496.0</td>\n      <td>8.461743</td>\n      <td>9.497197</td>\n      <td>-4.390000</td>\n      <td>0.800000</td>\n      <td>5.774500</td>\n      <td>12.200000</td>\n      <td>54.600000</td>\n    </tr>\n    <tr>\n      <th>mean_cost</th>\n      <td>15496.0</td>\n      <td>9.357578</td>\n      <td>0.553369</td>\n      <td>8.275591</td>\n      <td>8.868642</td>\n      <td>9.283218</td>\n      <td>9.765850</td>\n      <td>10.347159</td>\n    </tr>\n    <tr>\n      <th>median_cost</th>\n      <td>15496.0</td>\n      <td>6.553420</td>\n      <td>0.881528</td>\n      <td>4.260000</td>\n      <td>6.209400</td>\n      <td>6.665000</td>\n      <td>7.079000</td>\n      <td>8.170200</td>\n    </tr>\n    <tr>\n      <th>std_cost</th>\n      <td>15496.0</td>\n      <td>9.326104</td>\n      <td>1.240999</td>\n      <td>8.300255</td>\n      <td>8.535188</td>\n      <td>8.870913</td>\n      <td>9.009831</td>\n      <td>11.931373</td>\n    </tr>\n    <tr>\n      <th>lag_cost</th>\n      <td>15496.0</td>\n      <td>7.263071</td>\n      <td>9.091985</td>\n      <td>-8.200000</td>\n      <td>0.000000</td>\n      <td>4.129950</td>\n      <td>10.748725</td>\n      <td>45.678000</td>\n    </tr>\n  </tbody>\n</table>\n</div>"
     },
     "execution_count": 8,
     "metadata": {},
     "output_type": "execute_result"
    }
   ],
   "source": [
    "# Describe new features\n",
    "df.describe().transpose()"
   ],
   "metadata": {
    "collapsed": false,
    "pycharm": {
     "name": "#%%\n"
    }
   }
  },
  {
   "cell_type": "code",
   "execution_count": 9,
   "outputs": [],
   "source": [
    "industry_dummies = pd.get_dummies(df.industry, prefix='industry')\n",
    "sector_dummies = pd.get_dummies(df.sector, prefix='sector')\n",
    "continent_dummies = pd.get_dummies(df.continent, prefix='continent')\n",
    "country_dummies = pd.get_dummies(df.country, prefix='country')\n",
    "\n",
    "df = pd.concat(\n",
    "    [df,industry_dummies,sector_dummies,continent_dummies,country_dummies],\n",
    "    axis=1\n",
    ")"
   ],
   "metadata": {
    "collapsed": false,
    "pycharm": {
     "name": "#%%\n"
    }
   }
  },
  {
   "cell_type": "code",
   "execution_count": 10,
   "outputs": [],
   "source": [
    "df['test'] = df.year == 2020"
   ],
   "metadata": {
    "collapsed": false,
    "pycharm": {
     "name": "#%%\n"
    }
   }
  },
  {
   "cell_type": "code",
   "execution_count": 11,
   "outputs": [],
   "source": [
    "df.to_csv('../data/forbes_2000_iqr_range_feature_engineering.csv', index=False, header=True)\n",
    "\n"
   ],
   "metadata": {
    "collapsed": false,
    "pycharm": {
     "name": "#%%\n"
    }
   }
  }
 ],
 "metadata": {
  "kernelspec": {
   "display_name": "Python 3",
   "language": "python",
   "name": "python3"
  },
  "language_info": {
   "codemirror_mode": {
    "name": "ipython",
    "version": 2
   },
   "file_extension": ".py",
   "mimetype": "text/x-python",
   "name": "python",
   "nbconvert_exporter": "python",
   "pygments_lexer": "ipython2",
   "version": "2.7.6"
  }
 },
 "nbformat": 4,
 "nbformat_minor": 0
}